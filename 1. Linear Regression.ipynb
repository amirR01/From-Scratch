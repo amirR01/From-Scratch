{
 "cells": [
  {
   "cell_type": "markdown",
   "id": "16adc323",
   "metadata": {},
   "source": [
    "<br><font face=\"Times New Roman\" size=5><div dir=ltr align=center>\n",
    "<font color=blue size=8>\n",
    "    Introduction to Machine Learning <br>\n",
    "<font color=red size=5>\n",
    "    Sharif University of Technology - Computer Engineering Department <br>\n",
    "    Fall 2022<br> <br>\n",
    "<font color=black size=6>\n",
    "    Homework 2: Practical - Linear Regression\n",
    "    </div>\n",
    "<br><br>\n",
    "<font size=4>\n",
    "   **Name**: Amir Hosein Rahmati<br>\n",
    "   **Student ID**: 99103922 <br> <br>"
   ]
  },
  {
   "cell_type": "markdown",
   "id": "2585264a",
   "metadata": {},
   "source": [
    "<font face=\"Times New Roman\" size=4><div dir=ltr>\n",
    "# Problem 1: Linear Regression Model (40 + 30 optional points)\n",
    "According to <a href=\"https://github.com/asharifiz/Introduction_to_Machine_Learning/blob/main/Jupyter_Notebooks/Chapter_02_Classical_Models/Linear%20regression.ipynb\"><font face=\"Roboto\">Linear Regression Notebook</font></a>, train a linear regression model on an arbitrary dataset. Explain your chosen dataset and split your data into train and test sets, then predict values for the test set using your trained model. Try to find the best hyperparameters for your model. (Using Lasso Regression, Ridge Regression or Elastic Net and comparing them will have extra optional points)\n",
    "<br> Explain each step of your workflow."
   ]
  },
  {
   "cell_type": "markdown",
   "id": "20697c04",
   "metadata": {},
   "source": [
    "# importing libraries  "
   ]
  },
  {
   "cell_type": "code",
   "execution_count": 100,
   "id": "387d3a07",
   "metadata": {},
   "outputs": [],
   "source": [
    "import numpy as np\n",
    "import pandas as pn\n",
    "from sklearn.model_selection import train_test_split\n",
    "from matplotlib import pyplot as plt\n"
   ]
  },
  {
   "cell_type": "markdown",
   "id": "2eb3f7d7",
   "metadata": {},
   "source": [
    "# data\n",
    "the data is about some houses in USA , there are some features about houses in the area that the house is.and also there is the price of house .\n",
    "<br>\n",
    "\n",
    " features : [ AVG Area Income , AVG Area House Age , AVG Area number of rooms , AVG Area Number of Bedrooms , Area Population]\n",
    " </br>\n",
    " <br>\n",
    "<b>the goal is to find a linear regression between features and the price. </b>\n",
    "</br>\n",
    "<br>\n",
    "data link : https://www.kaggle.com/datasets/dmvreddy91/usahousing?resource=download"
   ]
  },
  {
   "cell_type": "code",
   "execution_count": 89,
   "id": "234a1ec7",
   "metadata": {},
   "outputs": [
    {
     "data": {
      "text/html": [
       "<div>\n",
       "<style scoped>\n",
       "    .dataframe tbody tr th:only-of-type {\n",
       "        vertical-align: middle;\n",
       "    }\n",
       "\n",
       "    .dataframe tbody tr th {\n",
       "        vertical-align: top;\n",
       "    }\n",
       "\n",
       "    .dataframe thead th {\n",
       "        text-align: right;\n",
       "    }\n",
       "</style>\n",
       "<table border=\"1\" class=\"dataframe\">\n",
       "  <thead>\n",
       "    <tr style=\"text-align: right;\">\n",
       "      <th></th>\n",
       "      <th>Avg. Area Income</th>\n",
       "      <th>Avg. Area House Age</th>\n",
       "      <th>Avg. Area Number of Rooms</th>\n",
       "      <th>Avg. Area Number of Bedrooms</th>\n",
       "      <th>Area Population</th>\n",
       "      <th>Price</th>\n",
       "      <th>Address</th>\n",
       "    </tr>\n",
       "  </thead>\n",
       "  <tbody>\n",
       "    <tr>\n",
       "      <th>0</th>\n",
       "      <td>79545.458574</td>\n",
       "      <td>5.682861</td>\n",
       "      <td>7.009188</td>\n",
       "      <td>4.09</td>\n",
       "      <td>23086.800503</td>\n",
       "      <td>1.059034e+06</td>\n",
       "      <td>208 Michael Ferry Apt. 674\\nLaurabury, NE 3701...</td>\n",
       "    </tr>\n",
       "    <tr>\n",
       "      <th>1</th>\n",
       "      <td>79248.642455</td>\n",
       "      <td>6.002900</td>\n",
       "      <td>6.730821</td>\n",
       "      <td>3.09</td>\n",
       "      <td>40173.072174</td>\n",
       "      <td>1.505891e+06</td>\n",
       "      <td>188 Johnson Views Suite 079\\nLake Kathleen, CA...</td>\n",
       "    </tr>\n",
       "    <tr>\n",
       "      <th>2</th>\n",
       "      <td>61287.067179</td>\n",
       "      <td>5.865890</td>\n",
       "      <td>8.512727</td>\n",
       "      <td>5.13</td>\n",
       "      <td>36882.159400</td>\n",
       "      <td>1.058988e+06</td>\n",
       "      <td>9127 Elizabeth Stravenue\\nDanieltown, WI 06482...</td>\n",
       "    </tr>\n",
       "    <tr>\n",
       "      <th>3</th>\n",
       "      <td>63345.240046</td>\n",
       "      <td>7.188236</td>\n",
       "      <td>5.586729</td>\n",
       "      <td>3.26</td>\n",
       "      <td>34310.242831</td>\n",
       "      <td>1.260617e+06</td>\n",
       "      <td>USS Barnett\\nFPO AP 44820</td>\n",
       "    </tr>\n",
       "    <tr>\n",
       "      <th>4</th>\n",
       "      <td>59982.197226</td>\n",
       "      <td>5.040555</td>\n",
       "      <td>7.839388</td>\n",
       "      <td>4.23</td>\n",
       "      <td>26354.109472</td>\n",
       "      <td>6.309435e+05</td>\n",
       "      <td>USNS Raymond\\nFPO AE 09386</td>\n",
       "    </tr>\n",
       "  </tbody>\n",
       "</table>\n",
       "</div>"
      ],
      "text/plain": [
       "   Avg. Area Income  Avg. Area House Age  Avg. Area Number of Rooms  \\\n",
       "0      79545.458574             5.682861                   7.009188   \n",
       "1      79248.642455             6.002900                   6.730821   \n",
       "2      61287.067179             5.865890                   8.512727   \n",
       "3      63345.240046             7.188236                   5.586729   \n",
       "4      59982.197226             5.040555                   7.839388   \n",
       "\n",
       "   Avg. Area Number of Bedrooms  Area Population         Price  \\\n",
       "0                          4.09     23086.800503  1.059034e+06   \n",
       "1                          3.09     40173.072174  1.505891e+06   \n",
       "2                          5.13     36882.159400  1.058988e+06   \n",
       "3                          3.26     34310.242831  1.260617e+06   \n",
       "4                          4.23     26354.109472  6.309435e+05   \n",
       "\n",
       "                                             Address  \n",
       "0  208 Michael Ferry Apt. 674\\nLaurabury, NE 3701...  \n",
       "1  188 Johnson Views Suite 079\\nLake Kathleen, CA...  \n",
       "2  9127 Elizabeth Stravenue\\nDanieltown, WI 06482...  \n",
       "3                          USS Barnett\\nFPO AP 44820  \n",
       "4                         USNS Raymond\\nFPO AE 09386  "
      ]
     },
     "execution_count": 89,
     "metadata": {},
     "output_type": "execute_result"
    }
   ],
   "source": [
    "data = pn.read_csv(\"./USA_Housing.csv\")\n",
    "data.head()"
   ]
  },
  {
   "cell_type": "markdown",
   "id": "6133fdc9",
   "metadata": {},
   "source": [
    "we will first normalize the features values"
   ]
  },
  {
   "cell_type": "code",
   "execution_count": 82,
   "id": "197489b2",
   "metadata": {},
   "outputs": [
    {
     "data": {
      "text/html": [
       "<div>\n",
       "<style scoped>\n",
       "    .dataframe tbody tr th:only-of-type {\n",
       "        vertical-align: middle;\n",
       "    }\n",
       "\n",
       "    .dataframe tbody tr th {\n",
       "        vertical-align: top;\n",
       "    }\n",
       "\n",
       "    .dataframe thead th {\n",
       "        text-align: right;\n",
       "    }\n",
       "</style>\n",
       "<table border=\"1\" class=\"dataframe\">\n",
       "  <thead>\n",
       "    <tr style=\"text-align: right;\">\n",
       "      <th></th>\n",
       "      <th>Avg. Area Income</th>\n",
       "      <th>Avg. Area House Age</th>\n",
       "      <th>Avg. Area Number of Rooms</th>\n",
       "      <th>Avg. Area Number of Bedrooms</th>\n",
       "      <th>Area Population</th>\n",
       "      <th>Price</th>\n",
       "    </tr>\n",
       "  </thead>\n",
       "  <tbody>\n",
       "    <tr>\n",
       "      <th>0</th>\n",
       "      <td>0.686822</td>\n",
       "      <td>0.441986</td>\n",
       "      <td>0.501502</td>\n",
       "      <td>0.464444</td>\n",
       "      <td>0.329942</td>\n",
       "      <td>0.425210</td>\n",
       "    </tr>\n",
       "    <tr>\n",
       "      <th>1</th>\n",
       "      <td>0.683521</td>\n",
       "      <td>0.488538</td>\n",
       "      <td>0.464501</td>\n",
       "      <td>0.242222</td>\n",
       "      <td>0.575968</td>\n",
       "      <td>0.607369</td>\n",
       "    </tr>\n",
       "    <tr>\n",
       "      <th>2</th>\n",
       "      <td>0.483737</td>\n",
       "      <td>0.468609</td>\n",
       "      <td>0.701350</td>\n",
       "      <td>0.695556</td>\n",
       "      <td>0.528582</td>\n",
       "      <td>0.425192</td>\n",
       "    </tr>\n",
       "    <tr>\n",
       "      <th>3</th>\n",
       "      <td>0.506630</td>\n",
       "      <td>0.660956</td>\n",
       "      <td>0.312430</td>\n",
       "      <td>0.280000</td>\n",
       "      <td>0.491549</td>\n",
       "      <td>0.507384</td>\n",
       "    </tr>\n",
       "    <tr>\n",
       "      <th>4</th>\n",
       "      <td>0.469223</td>\n",
       "      <td>0.348556</td>\n",
       "      <td>0.611851</td>\n",
       "      <td>0.495556</td>\n",
       "      <td>0.376988</td>\n",
       "      <td>0.250702</td>\n",
       "    </tr>\n",
       "  </tbody>\n",
       "</table>\n",
       "</div>"
      ],
      "text/plain": [
       "   Avg. Area Income  Avg. Area House Age  Avg. Area Number of Rooms  \\\n",
       "0          0.686822             0.441986                   0.501502   \n",
       "1          0.683521             0.488538                   0.464501   \n",
       "2          0.483737             0.468609                   0.701350   \n",
       "3          0.506630             0.660956                   0.312430   \n",
       "4          0.469223             0.348556                   0.611851   \n",
       "\n",
       "   Avg. Area Number of Bedrooms  Area Population     Price  \n",
       "0                      0.464444         0.329942  0.425210  \n",
       "1                      0.242222         0.575968  0.607369  \n",
       "2                      0.695556         0.528582  0.425192  \n",
       "3                      0.280000         0.491549  0.507384  \n",
       "4                      0.495556         0.376988  0.250702  "
      ]
     },
     "execution_count": 82,
     "metadata": {},
     "output_type": "execute_result"
    }
   ],
   "source": [
    "#min-max rescaling \n",
    "data = data.drop(\"Address\",axis = 1)\n",
    "for fe in data.columns :\n",
    "    data[fe] = (data[fe] - min(data[fe])) / (max(data[fe]) - min(data[fe]))\n",
    "\n",
    "data.head()"
   ]
  },
  {
   "cell_type": "markdown",
   "id": "83e31627",
   "metadata": {},
   "source": [
    "it's time to separate the train , validation and the test samples."
   ]
  },
  {
   "cell_type": "code",
   "execution_count": 83,
   "id": "dbb594a5",
   "metadata": {},
   "outputs": [],
   "source": [
    "data_y = data[\"Price\"]\n",
    "data_x = data.drop(\"Price\",axis=1)\n",
    "x_train, x_test, y_train, y_test = train_test_split(data_x , data_y , test_size=0.20, random_state=42)\n",
    "x_train,x_valid, y_train, y_valid = train_test_split(x_train , y_train, test_size = 0.20,random_state=42)\n",
    "\n",
    "# reshaping data\n",
    "x_train = np.append(np.ones((x_train.shape[0], 1)), x_train , axis=1)\n",
    "x_valid = np.append(np.ones((x_valid.shape[0], 1)), x_valid , axis=1)\n",
    "x_test = np.append(np.ones((x_test.shape[0], 1)), x_test , axis=1)\n",
    "\n",
    "y_train = np.array(y_train).reshape(y_train.shape[0],1)\n",
    "y_valid = np.array(y_valid).reshape(y_valid.shape[0],1)\n",
    "y_test = np.array(y_test).reshape(y_test.shape[0],1)\n",
    "\n"
   ]
  },
  {
   "cell_type": "markdown",
   "id": "4346317a",
   "metadata": {},
   "source": [
    "# linear Regression  \n",
    "$$\n",
    "\\hat{y} = w_0 + w_1x_1 + w_2x_2 + ... + w_nx_n\n",
    "$$\n",
    "if $\\hat{y}$ be our linear function the loss function will be define as L(w):\n",
    "\n",
    "$$ L(w) = \\frac{1}{N} \\lVert Xw - y \\rVert ^2$$\n",
    "\n",
    "\n",
    "\n"
   ]
  },
  {
   "cell_type": "markdown",
   "id": "67844e1f",
   "metadata": {},
   "source": [
    "# gradient decent \n",
    "<br>we want to minimize the loss function by optimizing coefficient vector $w$, using gradient decent approach . <br>\n",
    "$$\n",
    "w_{n + 1} := w_n - \\alpha \\frac{\\partial L(w_n)}{\\partial w}\n",
    "$$\n",
    "$ \\alpha $ is the learning rate(lr) , and the gradient of loss function in respect to $ w $ will be :\n",
    "$$\n",
    "\\frac{\\partial L(w)}{\\partial w} = \\frac{2}{N}X^T(Xw - y)\n",
    "$$\n",
    "the gradient decent approach will be executed $ iter $ times."
   ]
  },
  {
   "cell_type": "code",
   "execution_count": 84,
   "id": "afb41b0e",
   "metadata": {},
   "outputs": [],
   "source": [
    "def error_calculator(y,predicted_y):\n",
    "    # print(predicted_y.shape , y.shape)\n",
    "    return predicted_y - y\n",
    "\n",
    "def mse(error,sample_size):\n",
    "    return ((np.linalg.norm(error))**2) / sample_size \n",
    "\n",
    "def predict(X, W):\n",
    "    return np.dot(X, W)\n",
    "\n",
    "def generate_random_coefficients(coefficients_number):\n",
    "    return np.random.rand(coefficients_number,1)\n",
    "\n",
    "def calc_gradient(X, error):\n",
    "    gradient = np.dot(X.T, error)\n",
    "    return gradient\n",
    "\n",
    "def update_weights(W, lr, gradient):\n",
    "    new_weights = W - lr * gradient\n",
    "    return new_weights\n",
    "\n",
    "def train_model_lr_gd(X, Y, W , iter, lr):\n",
    "    losses = []\n",
    "    for i in range(iter):\n",
    "        # generating the predictions \n",
    "        predicted_y = predict(X, W)\n",
    "        #calculating the error\n",
    "        error = error_calculator(Y , predicted_y)\n",
    "        # calculating the loss\n",
    "        loss = mse(error,Y.shape[0])\n",
    "        # adding the loss to our loss list \n",
    "        losses.append(loss)\n",
    "        # calculating gradients\n",
    "        gradient = (calc_gradient(X, error)  / (Y.size))\n",
    "        # updating weights and biases\n",
    "        W = update_weights(W, lr, gradient)\n",
    "    return W, losses"
   ]
  },
  {
   "cell_type": "markdown",
   "id": "8bf2c43f",
   "metadata": {},
   "source": [
    "# train and validation\n",
    "we will train the model with different hyperparameter $ iter $ and $ \\alpha (lr)$ , then we will choose the best hyperparameter using the validation data.\n",
    " "
   ]
  },
  {
   "cell_type": "code",
   "execution_count": 86,
   "metadata": {},
   "outputs": [
    {
     "name": "stderr",
     "output_type": "stream",
     "text": [
      "/tmp/ipykernel_3828/1824035401.py:19: RuntimeWarning: invalid value encountered in subtract\n",
      "  new_weights = W - lr * gradient\n"
     ]
    },
    {
     "name": "stdout",
     "output_type": "stream",
     "text": [
      "best mse on the train data for the chosen model is = 0.0017079164520838064\n",
      "and best mse on the validation data for the chosen model is = 0.0016939979915936022\n",
      "the hyperparameter : iter =5000 , lr =[0.5011003326315726]\n"
     ]
    }
   ],
   "source": [
    "\n",
    "alpha_set = np.random.rand(10,1).tolist()\n",
    "iter_set = [500 , 5000 , 10000]\n",
    "initial_w = generate_random_coefficients(x_train.shape[1])\n",
    "\n",
    "best_W = generate_random_coefficients(x_train.shape[1])\n",
    "best_losses =[]\n",
    "best_validation_lost = float(\"inf\")\n",
    "best_iter = 0\n",
    "best_alpha = 0\n",
    "# print(x_train.shape, initial_w.shape , y_train.shape)\n",
    "for iter in iter_set:\n",
    "    for alpha in alpha_set:\n",
    "        # train\n",
    "        W , losses = train_model_lr_gd(x_train,y_train,initial_w,iter,alpha)\n",
    "        # validation \n",
    "        predicted = predict(x_valid,W)\n",
    "        error = error_calculator(y_valid,predicted)\n",
    "        validation_loss = mse(error,y_valid.shape[0])\n",
    "\n",
    "        if (validation_loss < best_validation_lost):\n",
    "            best_W = W\n",
    "            best_losses = losses\n",
    "            best_validation_lost = validation_loss\n",
    "            best_iter = iter\n",
    "            best_alpha = alpha\n",
    "\n",
    "print(f\"best mse on the train data for the chosen model is = {best_losses[-1]}\")\n",
    "print(f\"and best mse on the validation data for the chosen model is = {best_validation_lost}\")\n",
    "print(f\"the hyperparameter : iter ={best_iter} , lr ={best_alpha}\")"
   ]
  },
  {
   "cell_type": "markdown",
   "id": "cbceab2e",
   "metadata": {},
   "source": [
    "# plot \n",
    "u can see the the loss changes by any iteration in plot below "
   ]
  },
  {
   "cell_type": "code",
   "execution_count": 111,
   "id": "7546a667",
   "metadata": {},
   "outputs": [
    {
     "data": {
      "text/plain": [
       "Text(0, 0.5, 'loss')"
      ]
     },
     "execution_count": 111,
     "metadata": {},
     "output_type": "execute_result"
    },
    {
     "data": {
      "image/png": "[encoded data removed]",
      "text/plain": [
       "<Figure size 800x800 with 1 Axes>"
      ]
     },
     "metadata": {},
     "output_type": "display_data"
    }
   ],
   "source": [
    "best_losses.remove(max(best_losses))\n",
    "fig, axs = plt.subplots(1,1,figsize=(8, 8))\n",
    "axs.plot(np.arange(0, len(best_losses)), best_losses, 'og-')\n",
    "axs.set_xlabel('iteration of gradient descent')\n",
    "axs.set_ylabel('loss')\n"
   ]
  },
  {
   "cell_type": "markdown",
   "id": "2bcf6b05",
   "metadata": {},
   "source": [
    "# test\n",
    "the mse of trained model on the test samples will be calculated in the next part"
   ]
  },
  {
   "cell_type": "code",
   "execution_count": 95,
   "id": "a7667d9c",
   "metadata": {},
   "outputs": [
    {
     "name": "stdout",
     "output_type": "stream",
     "text": [
      "the mse of test samples by the trained model will be = 0.001680065317324872\n"
     ]
    }
   ],
   "source": [
    "predicted = predict(x_test,best_W)\n",
    "error = error_calculator(y_test,predicted)\n",
    "test_loss = mse(error,y_test.shape[0])\n",
    "\n",
    "print(f\"the mse of test samples by the trained model will be = {test_loss}\")"
   ]
  },
  {
   "cell_type": "markdown",
   "id": "7dcdcda6",
   "metadata": {},
   "source": [
    "# Lasso Regression\n",
    "$$\n",
    "\\hat{y} = w_0 + w_1x_1 + w_2x_2 + ... + w_nx_n\n",
    "$$\n",
    "if $\\hat{y}$ be our linear function the loss function will be define as L(w):\n",
    "\n",
    "$$ L(w) = \\frac{1}{N} ( \\lVert Xw - y \\rVert_2 ^2  + \\lambda \\lVert w \\rVert_1  )$$\n",
    "\n",
    "the gradient of new loss function in respect to $ w $ will be :\n",
    "$$\n",
    "\\frac{\\partial L(w)}{\\partial w} = \\frac{1}{N}(X^T(Xw - y) + \\lambda sign(w))\n",
    "$$\n",
    "the sign function on vector w returns a vector with 1 and -1 values ,for any positive element we will have 1 and for any negative element we will have -1\n"
   ]
  },
  {
   "cell_type": "code",
   "execution_count": 120,
   "id": "eee429e7",
   "metadata": {},
   "outputs": [],
   "source": [
    "def lasso_calc_gradient(X, error, w , la):\n",
    "    gradient = np.dot(X.T, error) + (la * np.sign(w))\n",
    "    return gradient\n",
    "def train_lasso_model_lr_gd(X, Y, W , iter, lr , la ):\n",
    "    losses = []\n",
    "    for i in range(iter):\n",
    "        # generating the predictions \n",
    "        predicted_y = predict(X, W)\n",
    "        #calculating the error\n",
    "        error = error_calculator(Y , predicted_y)\n",
    "        # calculating the loss\n",
    "        loss = mse(error,Y.shape[0])\n",
    "        # adding the loss to our loss list \n",
    "        losses.append(loss)\n",
    "        # calculating gradients\n",
    "        gradient = (lasso_calc_gradient(X, error,W,la)  / (Y.size))\n",
    "        # updating weights and biases\n",
    "        W = update_weights(W, lr, gradient)\n",
    "    return W, losses"
   ]
  },
  {
   "cell_type": "markdown",
   "id": "b698740c",
   "metadata": {},
   "source": [
    "# train and validation lasso regression\n",
    "we will train the model with different hyperparameter $ iter $ , $ \\alpha (lr)$ ,and $ \\lambda $, then we will choose the best hyperparameter using the validation data."
   ]
  },
  {
   "cell_type": "code",
   "execution_count": 125,
   "id": "8a0ee7c6",
   "metadata": {},
   "outputs": [
    {
     "name": "stderr",
     "output_type": "stream",
     "text": [
      "/tmp/ipykernel_3828/1824035401.py:19: RuntimeWarning: invalid value encountered in subtract\n",
      "  new_weights = W - lr * gradient\n"
     ]
    },
    {
     "name": "stdout",
     "output_type": "stream",
     "text": [
      "best mse on the train data for the chosen model is = 0.001708291239630039\n",
      "and best mse on the validation data for the chosen model is = 0.0016927621009720315\n",
      "the hyperparameter : iter =5000 , lr =[0.10998584019624402] , lambda =[0.010156509615643627]\n"
     ]
    }
   ],
   "source": [
    "lambda_set = alpha_set = np.random.rand(5,1).tolist()\n",
    "alpha_set = np.random.rand(5,1).tolist()\n",
    "iter_set = [500 , 5000 , 10000]\n",
    "initial_w = generate_random_coefficients(x_train.shape[1])\n",
    "\n",
    "best_W = generate_random_coefficients(x_train.shape[1])\n",
    "best_losses =[]\n",
    "best_validation_lost = float(\"inf\")\n",
    "best_iter = 0\n",
    "best_alpha = 0\n",
    "best_lambda = 0\n",
    "# print(x_train.shape, initial_w.shape , y_train.shape)\n",
    "for iter in iter_set:\n",
    "    for alpha in alpha_set:\n",
    "        for la in lambda_set:\n",
    "            # train\n",
    "            W , losses = train_lasso_model_lr_gd(x_train,y_train,initial_w,iter,alpha,la)\n",
    "            # validation \n",
    "            predicted = predict(x_valid,W)\n",
    "            error = error_calculator(y_valid,predicted)\n",
    "            validation_loss = mse(error,y_valid.shape[0])\n",
    "\n",
    "            if (validation_loss < best_validation_lost):\n",
    "                best_W = W\n",
    "                best_losses = losses\n",
    "                best_validation_lost = validation_loss\n",
    "                best_iter = iter\n",
    "                best_alpha = alpha\n",
    "                best_lambda = la\n",
    "\n",
    "print(f\"best mse on the train data for the chosen model is = {best_losses[-1]}\")\n",
    "print(f\"and best mse on the validation data for the chosen model is = {best_validation_lost}\")\n",
    "print(f\"the hyperparameter : iter ={best_iter} , lr ={best_alpha} , lambda ={best_lambda}\")"
   ]
  },
  {
   "cell_type": "markdown",
   "id": "bd544528",
   "metadata": {},
   "source": [
    "# test\n",
    "the mse of trained lasso regression model on the test samples will be calculated in the next part"
   ]
  },
  {
   "cell_type": "code",
   "execution_count": 130,
   "id": "b88c3a25",
   "metadata": {},
   "outputs": [
    {
     "name": "stdout",
     "output_type": "stream",
     "text": [
      "the mse of test samples by the trained model will be = 0.0016801781875158516\n"
     ]
    }
   ],
   "source": [
    "predicted = predict(x_test,best_W)\n",
    "error = error_calculator(y_test,predicted)\n",
    "test_loss = mse(error,y_test.shape[0])\n",
    "\n",
    "print(f\"the mse of test samples by the trained model will be = {test_loss}\")"
   ]
  },
  {
   "cell_type": "markdown",
   "id": "45653747",
   "metadata": {},
   "source": [
    "# Ridge Regression\n",
    "$$\n",
    "\\hat{y} = w_0 + w_1x_1 + w_2x_2 + ... + w_nx_n\n",
    "$$\n",
    "if $\\hat{y}$ be our linear function the loss function will be defined as L(w):\n",
    "\n",
    "$$ L(w) = \\frac{1}{N} ( \\lVert Xw - y \\rVert_2 ^2  + \\lambda \\lVert w \\rVert^2  )$$\n",
    "\n",
    "the gradient of new loss function in respect to $ w $ will be :\n",
    "$$\n",
    "\\frac{\\partial L(w)}{\\partial w} = \\frac{1}{N}(X^T(Xw - y) + \\lambda w)\n",
    "$$"
   ]
  },
  {
   "cell_type": "code",
   "execution_count": 129,
   "id": "dae230a5",
   "metadata": {},
   "outputs": [],
   "source": [
    "def ridge_calc_gradient(X, error, w , la):\n",
    "    gradient = np.dot(X.T, error) + la * w\n",
    "    return gradient\n",
    "def train_ridge_model_lr_gd(X, Y, W , iter, lr , la ):\n",
    "    losses = []\n",
    "    for i in range(iter):\n",
    "        # generating the predictions \n",
    "        predicted_y = predict(X, W)\n",
    "        #calculating the error\n",
    "        error = error_calculator(Y , predicted_y)\n",
    "        # calculating the loss\n",
    "        loss = mse(error,Y.shape[0])\n",
    "        # adding the loss to our loss list \n",
    "        losses.append(loss)\n",
    "        # calculating gradients\n",
    "        gradient = (ridge_calc_gradient(X, error,W,la)  / (Y.size))\n",
    "        # updating weights and biases\n",
    "        W = update_weights(W, lr, gradient)\n",
    "    return W, losses"
   ]
  },
  {
   "cell_type": "markdown",
   "id": "18442868",
   "metadata": {},
   "source": [
    "# train and validation Ridge regression\n",
    "we will train the model with different hyperparameter $ iter $ , $ \\alpha (lr)$ ,and $ \\lambda $, then we will choose the best hyperparameter using the validation data."
   ]
  },
  {
   "cell_type": "code",
   "execution_count": 131,
   "id": "b6a76d00",
   "metadata": {},
   "outputs": [
    {
     "name": "stderr",
     "output_type": "stream",
     "text": [
      "/tmp/ipykernel_3828/1824035401.py:19: RuntimeWarning: invalid value encountered in subtract\n",
      "  new_weights = W - lr * gradient\n"
     ]
    },
    {
     "name": "stdout",
     "output_type": "stream",
     "text": [
      "best mse on the train data for the chosen model is = 0.0017088445830709088\n",
      "and best mse on the validation data for the chosen model is = 0.001691916093729806\n",
      "the hyperparameter : iter =5000 , lr =[0.14676310427096562] , lambda =[0.20269216996824502]\n"
     ]
    }
   ],
   "source": [
    "lambda_set = alpha_set = np.random.rand(5,1).tolist()\n",
    "alpha_set = np.random.rand(5,1).tolist()\n",
    "iter_set = [500 , 5000 , 10000]\n",
    "initial_w = generate_random_coefficients(x_train.shape[1])\n",
    "\n",
    "best_W = generate_random_coefficients(x_train.shape[1])\n",
    "best_losses =[]\n",
    "best_validation_lost = float(\"inf\")\n",
    "best_iter = 0\n",
    "best_alpha = 0\n",
    "best_lambda = 0\n",
    "# print(x_train.shape, initial_w.shape , y_train.shape)\n",
    "for iter in iter_set:\n",
    "    for alpha in alpha_set:\n",
    "        for la in lambda_set:\n",
    "            # train\n",
    "            W , losses = train_ridge_model_lr_gd(x_train,y_train,initial_w,iter,alpha,la)\n",
    "            # validation \n",
    "            predicted = predict(x_valid,W)\n",
    "            error = error_calculator(y_valid,predicted)\n",
    "            validation_loss = mse(error,y_valid.shape[0])\n",
    "\n",
    "            if (validation_loss < best_validation_lost):\n",
    "                best_W = W\n",
    "                best_losses = losses\n",
    "                best_validation_lost = validation_loss\n",
    "                best_iter = iter\n",
    "                best_alpha = alpha\n",
    "                best_lambda = la\n",
    "\n",
    "print(f\"best mse on the train data for the chosen model is = {best_losses[-1]}\")\n",
    "print(f\"and best mse on the validation data for the chosen model is = {best_validation_lost}\")\n",
    "print(f\"the hyperparameter : iter ={best_iter} , lr ={best_alpha} , lambda ={best_lambda}\")"
   ]
  },
  {
   "cell_type": "markdown",
   "id": "bcd22bd7",
   "metadata": {},
   "source": [
    "# test\n",
    "the mse of trained ridge regression model on the test samples will be calculated in the next part"
   ]
  },
  {
   "cell_type": "code",
   "execution_count": 132,
   "id": "1deb757b",
   "metadata": {},
   "outputs": [
    {
     "name": "stdout",
     "output_type": "stream",
     "text": [
      "the mse of test samples by the trained model will be = 0.0016799840411246493\n"
     ]
    }
   ],
   "source": [
    "predicted = predict(x_test,best_W)\n",
    "error = error_calculator(y_test,predicted)\n",
    "test_loss = mse(error,y_test.shape[0])\n",
    "\n",
    "print(f\"the mse of test samples by the trained model will be = {test_loss}\")"
   ]
  },
  {
   "cell_type": "markdown",
   "id": "810df44e",
   "metadata": {},
   "source": [
    "# Elastic Net Regression\n",
    "$$\n",
    "\\hat{y} = w_0 + w_1x_1 + w_2x_2 + ... + w_nx_n\n",
    "$$\n",
    "if $\\hat{y}$ be our linear function the loss function will be defined as L(w):\n",
    "\n",
    "$$ L(w) = \\frac{1}{N} ( \\lVert Xw - y \\rVert_2 ^2  + \\lambda \\lVert w \\rVert^2 + \\beta \\lVert w \\rVert_1  )$$\n",
    "\n",
    "the gradient of new loss function in respect to $ w $ will be :\n",
    "$$\n",
    "\\frac{\\partial L(w)}{\\partial w} = \\frac{1}{N}(X^T(Xw - y) + \\lambda w + \\beta sign(w))\n",
    "$$"
   ]
  },
  {
   "cell_type": "code",
   "execution_count": 134,
   "id": "72d571df",
   "metadata": {},
   "outputs": [],
   "source": [
    "def Elastic_net_calc_gradient(X, error, w , la , be):\n",
    "    gradient = np.dot(X.T, error) + (be * np.sign(w)) + (la * w)\n",
    "    return gradient\n",
    "def train_lasso_model_lr_gd(X, Y, W , iter, lr , la , be  ):\n",
    "    losses = []\n",
    "    for i in range(iter):\n",
    "        # generating the predictions \n",
    "        predicted_y = predict(X, W)\n",
    "        #calculating the error\n",
    "        error = error_calculator(Y , predicted_y)\n",
    "        # calculating the loss\n",
    "        loss = mse(error,Y.shape[0])\n",
    "        # adding the loss to our loss list \n",
    "        losses.append(loss)\n",
    "        # calculating gradients\n",
    "        gradient = (Elastic_net_calc_gradient(X, error,W,la,be)  / (Y.size))\n",
    "        # updating weights and biases\n",
    "        W = update_weights(W, lr, gradient)\n",
    "    return W, losses"
   ]
  },
  {
   "cell_type": "markdown",
   "id": "60b0d6cd",
   "metadata": {},
   "source": [
    "# train and validation Elastic Net  regression\n",
    "we will train the model with different hyperparameter $ iter $ , $ \\alpha (lr)$ , $ \\lambda $,and $ \\beta\\ $ then we will choose the best hyperparameter using the validation data."
   ]
  },
  {
   "cell_type": "code",
   "execution_count": 135,
   "id": "79becdd4",
   "metadata": {},
   "outputs": [
    {
     "name": "stderr",
     "output_type": "stream",
     "text": [
      "/tmp/ipykernel_3828/1824035401.py:19: RuntimeWarning: invalid value encountered in subtract\n",
      "  new_weights = W - lr * gradient\n"
     ]
    },
    {
     "name": "stdout",
     "output_type": "stream",
     "text": [
      "best mse on the train data for the chosen model is = 0.00171581906704635\n",
      "and best mse on the validation data for the chosen model is = 0.001693019762716589\n",
      "the hyperparameter : iter =5000 , lr =[0.5572886194675679] , lambda =[0.6974451233844517] , beta = [0.2888428685666008]\n"
     ]
    }
   ],
   "source": [
    "lambda_set = alpha_set = np.random.rand(5,1).tolist()\n",
    "Beta_set = alpha_set = np.random.rand(5,1).tolist()\n",
    "alpha_set = np.random.rand(5,1).tolist()\n",
    "iter_set = [500 , 5000]\n",
    "initial_w = generate_random_coefficients(x_train.shape[1])\n",
    "\n",
    "best_W = generate_random_coefficients(x_train.shape[1])\n",
    "best_losses =[]\n",
    "best_validation_lost = float(\"inf\")\n",
    "best_iter = 0\n",
    "best_alpha = 0\n",
    "best_lambda = 0\n",
    "best_beta = 0\n",
    "# print(x_train.shape, initial_w.shape , y_train.shape)\n",
    "for iter in iter_set:\n",
    "    for alpha in alpha_set:\n",
    "        for la in lambda_set:\n",
    "            for be in Beta_set:\n",
    "                # train\n",
    "                W , losses = train_ridge_model_lr_gd(x_train,y_train,initial_w,iter,alpha,la)\n",
    "                # validation \n",
    "                predicted = predict(x_valid,W)\n",
    "                error = error_calculator(y_valid,predicted)\n",
    "                validation_loss = mse(error,y_valid.shape[0])\n",
    "\n",
    "                if (validation_loss < best_validation_lost):\n",
    "                    best_W = W\n",
    "                    best_losses = losses\n",
    "                    best_validation_lost = validation_loss\n",
    "                    best_iter = iter\n",
    "                    best_alpha = alpha\n",
    "                    best_lambda = la\n",
    "                    best_beta = be \n",
    "\n",
    "print(f\"best mse on the train data for the chosen model is = {best_losses[-1]}\")\n",
    "print(f\"and best mse on the validation data for the chosen model is = {best_validation_lost}\")\n",
    "print(f\"the hyperparameter : iter ={best_iter} , lr ={best_alpha} , lambda ={best_lambda} , beta = {best_beta}\")"
   ]
  },
  {
   "cell_type": "markdown",
   "id": "20524393",
   "metadata": {},
   "source": [
    "# test \n",
    "the mse of trained ridge regression model on the test samples will be calculated in the next part"
   ]
  },
  {
   "cell_type": "code",
   "execution_count": 137,
   "id": "6e8d3c35",
   "metadata": {},
   "outputs": [
    {
     "name": "stdout",
     "output_type": "stream",
     "text": [
      "the mse of test samples by the trained model will be = 0.0016847668408565973\n"
     ]
    }
   ],
   "source": [
    "predicted = predict(x_test,best_W)\n",
    "error = error_calculator(y_test,predicted)\n",
    "test_loss = mse(error,y_test.shape[0])\n",
    "\n",
    "print(f\"the mse of test samples by the trained model will be = {test_loss}\")"
   ]
  },
  {
   "cell_type": "markdown",
   "id": "2e0ba12c",
   "metadata": {},
   "source": [
    "# conclusion\n",
    "<br> <b> simple regression without regularization term : </b> </br>\n",
    "there is a good linear regression for this data set and as it is showed the mse for the test samples are less than 0.01 \n",
    "<br></br>\n",
    "<br><b> lasso regression: </b> <br>\n",
    "using lasso regression will affect the weights as it wont allow them to get so large.\n",
    "in our model, after validation , our hyperparameter for lasso term has been chosen 0.01 . which is a small number and decreases the effect of regularization term, and our model will be so similar to the regression without regularization term.\n",
    "<br></br>\n",
    "<br><b> Ridge regression: </b> <br>\n",
    "using ridge regression will affect the weights as it wont allow them get so large and wont allow them to have a big standard deviation. we can see the effect of ridge regularization term , the mse on the test samples has been decreased a bit.\n",
    "<br></br>\n",
    "\n",
    "<br><b> Elastic Net regression: </b> <br>\n",
    "we can use both lasso and ridge regularization terms in Elastic Net regression models. as it is showed after validation the hyperparameter of both terms hadn't chosen too large or too small. although there is a small increase in mse of test samples , it is expected that the trained Elastic Net model be a proper model to predict other samples target by their features value.\n"
   ]
  }
 ],
 "metadata": {
  "kernelspec": {
   "display_name": "Python 3.10.4 64-bit",
   "language": "python",
   "name": "python3"
  },
  "language_info": {
   "codemirror_mode": {
    "name": "ipython",
    "version": 3
   },
   "file_extension": ".py",
   "mimetype": "text/x-python",
   "name": "python",
   "nbconvert_exporter": "python",
   "pygments_lexer": "ipython3",
   "version": "3.10.6"
  },
  "vscode": {
   "interpreter": {
    "hash": "916dbcbb3f70747c44a77c7bcd40155683ae19c65e1c03b4aa3499c5328201f1"
   }
  }
 },
 "nbformat": 4,
 "nbformat_minor": 5
}
